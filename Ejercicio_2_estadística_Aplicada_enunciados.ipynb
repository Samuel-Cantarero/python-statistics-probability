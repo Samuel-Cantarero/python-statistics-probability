{
  "cells": [
    {
      "cell_type": "markdown",
      "metadata": {
        "id": "UAFbG9gYtn3m"
      },
      "source": [
        "#Estadística Aplicada con Python\n",
        "⚠️ Está terminantemente prohibido el uso de herramientas de inteligencia artificial generativa (como ChatGPT, Copilot, Gemini, etc.) para generar código en estos ejercicios.\n",
        "\n",
        "El objetivo es que desarrolles tu comprensión estadística y habilidades de programación desde los fundamentos. Si se detecta uso indebido de IA, el ejercicio será anulado.\n",
        "\n",
        "No se pueden usar datasets simulados. Se recomienda buscar datos en sklearn, hugging face, o kaggle"
      ]
    },
    {
      "cell_type": "markdown",
      "metadata": {
        "id": "1H9b6rTtvV6q"
      },
      "source": [
        "# Ejercicio 1: Regresión Lineal Simple desde Cero\n",
        "\n",
        "Escoge un dataset con una sola variable explicativa (X) y una variable dependiente (y).\n",
        "\n",
        "Implementa una función\n",
        "```python\n",
        "    regresion_lineal_simple(X, y, lr=0.01, epochs=1000, verbose=False)\n",
        "```\n",
        "\n",
        "que:\n",
        "\n",
        "Calcule los coeficientes (pendiente y sesgo) usando descenso de gradiente con NumPy.\n",
        "\n",
        "Si verbose=True, imprima la función de pérdida en cada iteración.\n",
        "\n",
        "Al final, devuelve los parámetros entrenados (w, b).\n",
        "\n",
        "Adicional:\n",
        "\n",
        "+  Representa gráficamente la recta ajustada sobre los datos originales"
      ]
    },
    {
      "cell_type": "markdown",
      "metadata": {
        "id": "aN9qgZM6whrZ"
      },
      "source": [
        "# Ejercicio 2: Regresión Lineal Múltiple desde Cero\n",
        "Escoge un dataset con múltiples variables explicativas.\n",
        "\n",
        "Implementa una función\n",
        "\n",
        "```python\n",
        "    regresion_lineal_simple(X, y, lr=0.01, epochs=1000, verbose=False)\n",
        "```\n",
        "\n",
        "que:\n",
        "\n",
        "Normalice los datos (opcional).\n",
        "\n",
        "Calcule los coeficientes del modelo de forma vectorizada con NumPy.\n",
        "\n",
        "Si verbose=True, imprima el valor de la función de pérdida en cada iteración.\n",
        "\n",
        "Devuelve el vector de coeficientes w y el sesgo b.\n",
        "\n",
        "Adicional:\n",
        "\n",
        "* Compara el resultado con el modelo de sklearn.linear_model.LinearRegression para verificar tu implementación.\n",
        "\n",
        "* Explora el impacto del learning rate en la convergencia del modelo.\n",
        "\n",
        "\n"
      ]
    },
    {
      "cell_type": "code",
      "execution_count": null,
      "metadata": {
        "id": "WK7Pf-M8xVhW"
      },
      "outputs": [],
      "source": []
    },
    {
      "cell_type": "markdown",
      "metadata": {
        "id": "JMMGzaQ5xa6V"
      },
      "source": [
        "# Ejercicio 3: Clasificación Binaria y Evaluación de Modelos\n",
        "\n",
        "Escoge un dataset con una variable objetivo binaria (0 o 1).\n",
        "\n",
        "Entrena al menos dos modelos de clasificación distintos, como:\n",
        "\n",
        "+ Regresión logística\n",
        "\n",
        "+ k-NN\n",
        "\n",
        "+ Árboles de decisión\n",
        "\n",
        "+ SVM, Random Forest, etc.\n",
        "\n",
        "Evalúa el rendimiento de los modelos usando:\n",
        "\n",
        "+ Accuracy\n",
        "\n",
        "+ Precision\n",
        "\n",
        "+ Recall\n",
        "\n",
        "+ F1-Score\n",
        "\n",
        "+ Curva ROC y AUC\n",
        "\n",
        "Adicional:\n",
        "\n",
        "+ Construye una tabla comparativa entre modelos.\n",
        "\n",
        "+ Analiza si alguno de los modelos sobreajusta o subajusta los datos.\n",
        "\n"
      ]
    },
    {
      "cell_type": "markdown",
      "metadata": {
        "id": "VwAeF2ytx31g"
      },
      "source": [
        "# Ejercicio 4: Análisis de Series Temporales\n",
        "\n",
        "Escoge un dataset con una estructura temporal (ej: evolución de precios, temperatura, ventas...).\n",
        "\n",
        "Analiza la serie temporal con herramientas estadísticas:\n",
        "\n",
        "+ Tendencia y estacionalidad\n",
        "\n",
        "+ Media móvil y suavizados\n",
        "\n",
        "+ Descomposición de la serie temporal\n",
        "\n",
        "+ Autocorrelaciones (ACF, PACF)\n",
        "\n",
        "Responde a las siguientes Cuestiones con tus palabras apoyandote en las graficas que consideres:\n",
        "\n",
        "+ Describe las características estadísticas de la serie.\n",
        "\n",
        "+ ¿Es estacionaria?\n",
        "\n",
        "+ ¿Qué predicción harías para el futuro inmediato?\n",
        "\n",
        "+ ¿Qué elementos deberías modelar para mejorar una predicción?\n",
        "\n",
        "Adicional:\n",
        "\n",
        "+ Usa modelos ARIMA para predecir el comportamiento de la serie temporal. (Opcional, No resta puntos no hacerlo. pero puede subirlos)"
      ]
    },
    {
      "cell_type": "code",
      "execution_count": null,
      "metadata": {},
      "outputs": [],
      "source": []
    },
    {
      "cell_type": "code",
      "execution_count": null,
      "metadata": {
        "id": "b8B1X6wlykc6"
      },
      "outputs": [],
      "source": []
    }
  ],
  "metadata": {
    "colab": {
      "provenance": [],
      "toc_visible": true
    },
    "kernelspec": {
      "display_name": "Python 3",
      "name": "python3"
    },
    "language_info": {
      "codemirror_mode": {
        "name": "ipython",
        "version": 3
      },
      "file_extension": ".py",
      "mimetype": "text/x-python",
      "name": "python",
      "nbconvert_exporter": "python",
      "pygments_lexer": "ipython3",
      "version": "3.13.2"
    }
  },
  "nbformat": 4,
  "nbformat_minor": 0
}
