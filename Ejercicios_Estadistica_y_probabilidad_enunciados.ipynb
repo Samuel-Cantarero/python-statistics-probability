{
  "cells": [
    {
      "cell_type": "markdown",
      "metadata": {
        "id": "ccB24qY4pGQ3"
      },
      "source": [
        "# -------------------------------------------------------------------\n",
        "# EJERCICIO 1 – Estadística Descriptiva (Media, Mediana, Varianza, Desviación estándar)\n",
        "# -------------------------------------------------------------------\n",
        "Instrucciones: Crea un conjunto de datos simulado de ingresos de 100 personas\n",
        "y calcula desde cero:\n",
        " - Media\n",
        " - Mediana\n",
        " - Varianza\n",
        " - Desviación estándar\n",
        " - Coeficiente de variación"
      ]
    },
    {
      "cell_type": "markdown",
      "metadata": {
        "id": "gxtinm9fpEgL"
      },
      "source": []
    },
    {
      "cell_type": "code",
      "execution_count": null,
      "metadata": {
        "id": "fM4D41hwpfSa"
      },
      "outputs": [],
      "source": [
        "# Cálculo\n"
      ]
    },
    {
      "cell_type": "markdown",
      "metadata": {
        "id": "oQ57dSJXpTV3"
      },
      "source": [
        "# -------------------------------------------------------------------\n",
        "# EJERCICIO 2 – Z-score y Detección de Outliers\n",
        "# -------------------------------------------------------------------\n",
        "Instrucciones: Utiliza el conjunto de ingresos del ejercicio anterior\n",
        "y calcula el z-score para cada valor. Luego identifica los valores atípicos\n",
        "(aquellos con z-score mayor a 3 o menor a -3)"
      ]
    },
    {
      "cell_type": "code",
      "execution_count": null,
      "metadata": {
        "id": "IDLrnXQ1pXBd"
      },
      "outputs": [],
      "source": []
    },
    {
      "cell_type": "markdown",
      "metadata": {
        "id": "GlfuwChFpm6T"
      },
      "source": [
        "# -------------------------------------------------------------------\n",
        "# EJERCICIO 3 – Probabilidad Frecuentista y Simulación\n",
        "# -------------------------------------------------------------------\n",
        "Instrucciones: Simula 10.000 lanzamientos de una moneda justa con NumPy.\n",
        "Luego calcula:\n",
        "- La frecuencia relativa de caras y cruces\n",
        "- La probabilidad estimada de obtener al menos 3 caras en 5 lanzamientos consecutivos (repetido 10.000 veces)"
      ]
    },
    {
      "cell_type": "code",
      "execution_count": null,
      "metadata": {
        "id": "x4lQXcrwpmKT"
      },
      "outputs": [],
      "source": []
    },
    {
      "cell_type": "markdown",
      "metadata": {
        "id": "iVkdfPxZpuxA"
      },
      "source": [
        "# -------------------------------------------------------------------\n",
        "# EJERCICIO 4 – Distribuciones: Bernoulli, Binomial y Poisson\n",
        "# -------------------------------------------------------------------\n",
        "Instrucciones:\n",
        "\n",
        "A. Simula una distribución Bernoulli con p = 0.3 y 1.000 observaciones\n",
        "\n",
        "B. Simula una distribución Binomial con n = 10, p = 0.4 y 1.000 observaciones\n",
        "\n",
        "- . Simula una distribución de Poisson con lambda = 5 y 1.000 observaciones\n",
        " Para cada una:\n",
        "- Calcula la media y la varianza manualmente\n",
        "- Grafica el histograma de frecuencias (opcional)"
      ]
    },
    {
      "cell_type": "code",
      "execution_count": null,
      "metadata": {
        "id": "XrO-3kR_px4b"
      },
      "outputs": [],
      "source": []
    },
    {
      "cell_type": "code",
      "execution_count": null,
      "metadata": {
        "id": "vo7cKAuc6bP2"
      },
      "outputs": [],
      "source": []
    },
    {
      "cell_type": "markdown",
      "metadata": {
        "id": "Hmfcppw3qBJY"
      },
      "source": [
        "# -------------------------------------------------------------------\n",
        "# EJERCICIO 5 – Intervalo de confianza para la media\n",
        "# -------------------------------------------------------------------\n",
        "Instrucciones:\n",
        "\n",
        "Genera una muestra aleatoria de 50 valores de una variable simulada (por ejemplo, altura)\n",
        "Calcula un intervalo de confianza del 95% para la media poblacional, utilizando solo operaciones básicas y z = 1.96"
      ]
    },
    {
      "cell_type": "code",
      "execution_count": null,
      "metadata": {
        "id": "CeyukE-gqJ66"
      },
      "outputs": [],
      "source": []
    },
    {
      "cell_type": "markdown",
      "metadata": {
        "id": "6LCaizPRqMxG"
      },
      "source": [
        "# -------------------------------------------------------------------\n",
        "# EJERCICIO 6 – Prueba de hipótesis para proporciones\n",
        "# -------------------------------------------------------------------\n",
        "Instrucciones:\n",
        "\n",
        " Supón que se encuestaron 400 personas y 344 están vacunadas.\n",
        "Realiza una prueba de hipótesis para evaluar si la proporción real es menor al 90%.\n",
        "\n",
        "Usa una prueba unilateral y calcula:\n",
        "- Hipótesis\n",
        "- Estadístico z\n",
        "- Valor-p aproximado (utilizando una función propia de CDF de la normal)"
      ]
    },
    {
      "cell_type": "code",
      "execution_count": null,
      "metadata": {
        "id": "F2H6xPtyqU8R"
      },
      "outputs": [],
      "source": []
    },
    {
      "cell_type": "markdown",
      "metadata": {
        "id": "URuBESrIqV4S"
      },
      "source": [
        "# -------------------------------------------------------------------\n",
        "# EJERCICIO 7 – Correlación de Pearson desde cero\n",
        "# -------------------------------------------------------------------\n",
        "Instrucciones: Simula dos variables con relación lineal e introduce algo de ruido.\n",
        "Calcula la correlación de Pearson utilizando únicamente operaciones aritméticas básicas (no .corr())"
      ]
    },
    {
      "cell_type": "code",
      "execution_count": null,
      "metadata": {
        "id": "e0JSneZ-qWdA"
      },
      "outputs": [],
      "source": []
    },
    {
      "cell_type": "markdown",
      "metadata": {
        "id": "Io3hgQjHqhGi"
      },
      "source": [
        "# -------------------------------------------------------------------\n",
        "# EJERCICIO 8 – Correlación de Spearman desde cero\n",
        "# -------------------------------------------------------------------\n",
        "Instrucciones: Simula dos variables con relación monotónica (no lineal).\n",
        "Asigna rangos y calcula Spearman usando la fórmula basada en rangos y diferencia de rangos"
      ]
    },
    {
      "cell_type": "code",
      "execution_count": null,
      "metadata": {
        "id": "bhyLqr6eqgC6"
      },
      "outputs": [],
      "source": []
    },
    {
      "cell_type": "markdown",
      "metadata": {
        "id": "50BMEQOC7Ea7"
      },
      "source": [
        "# -------------------------------------------------------------------\n",
        "# EJERCICIO 9 – Correlación de Kendall desde cero\n",
        "# -------------------------------------------------------------------\n",
        "Instrucciones:\n",
        "\n",
        "Simula dos variables no correlacionadas linealmente.\n",
        "Asigna rangos y calcula Kendall"
      ]
    },
    {
      "cell_type": "code",
      "execution_count": null,
      "metadata": {
        "id": "Z0YrNPha7fgd"
      },
      "outputs": [],
      "source": []
    },
    {
      "cell_type": "markdown",
      "metadata": {
        "id": "P0b7Oj-5qkoS"
      },
      "source": [
        "# -------------------------------------------------------------------\n",
        "# EJERCICIO 10 – Análisis de una base de datos real\n",
        "# -------------------------------------------------------------------\n",
        "\n",
        "Instrucciones:\n",
        "\n",
        "Carga un dataset sencillo con pandas (puede ser CSV simulado).\n",
        "\n",
        "Realiza:\n",
        "- Estadística descriptiva por variable\n",
        "- Identificación de correlaciones\n",
        "- Gráficos básicos y detección de outliers\n",
        "- Conclusiones en texto sobre las relaciones encontradas"
      ]
    },
    {
      "cell_type": "code",
      "execution_count": null,
      "metadata": {
        "id": "aQm4F7ghqooY"
      },
      "outputs": [],
      "source": []
    }
  ],
  "metadata": {
    "colab": {
      "provenance": []
    },
    "kernelspec": {
      "display_name": "Python 3",
      "name": "python3"
    },
    "language_info": {
      "name": "python"
    }
  },
  "nbformat": 4,
  "nbformat_minor": 0
}
